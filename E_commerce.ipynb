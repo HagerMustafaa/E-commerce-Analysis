{
  "nbformat": 4,
  "nbformat_minor": 0,
  "metadata": {
    "colab": {
      "provenance": []
    },
    "kernelspec": {
      "name": "python3",
      "display_name": "Python 3"
    },
    "language_info": {
      "name": "python"
    }
  },
  "cells": [
    {
      "cell_type": "code",
      "execution_count": 2,
      "metadata": {
        "id": "jECEmh_lSMKl"
      },
      "outputs": [],
      "source": [
        "import pandas as pd\n",
        "import numpy as np\n",
        "import matplotlib.pyplot as plt\n",
        "import seaborn as sns\n",
        "from sklearn.preprocessing import StandardScaler\n",
        "from sklearn.cluster import KMeans\n",
        "from sklearn.metrics import silhouette_score\n",
        "from sklearn.decomposition import PCA"
      ]
    },
    {
      "cell_type": "code",
      "source": [
        "from google.colab import files\n",
        "uploaded = files.upload()"
      ],
      "metadata": {
        "colab": {
          "base_uri": "https://localhost:8080/",
          "height": 73
        },
        "id": "5dtjWi160YFf",
        "outputId": "5df14597-e511-4fa9-e9ff-5d7bead6555b"
      },
      "execution_count": 3,
      "outputs": [
        {
          "output_type": "display_data",
          "data": {
            "text/plain": [
              "<IPython.core.display.HTML object>"
            ],
            "text/html": [
              "\n",
              "     <input type=\"file\" id=\"files-b8aa8024-d33e-45e1-b89a-c31ae00f2a9f\" name=\"files[]\" multiple disabled\n",
              "        style=\"border:none\" />\n",
              "     <output id=\"result-b8aa8024-d33e-45e1-b89a-c31ae00f2a9f\">\n",
              "      Upload widget is only available when the cell has been executed in the\n",
              "      current browser session. Please rerun this cell to enable.\n",
              "      </output>\n",
              "      <script>// Copyright 2017 Google LLC\n",
              "//\n",
              "// Licensed under the Apache License, Version 2.0 (the \"License\");\n",
              "// you may not use this file except in compliance with the License.\n",
              "// You may obtain a copy of the License at\n",
              "//\n",
              "//      http://www.apache.org/licenses/LICENSE-2.0\n",
              "//\n",
              "// Unless required by applicable law or agreed to in writing, software\n",
              "// distributed under the License is distributed on an \"AS IS\" BASIS,\n",
              "// WITHOUT WARRANTIES OR CONDITIONS OF ANY KIND, either express or implied.\n",
              "// See the License for the specific language governing permissions and\n",
              "// limitations under the License.\n",
              "\n",
              "/**\n",
              " * @fileoverview Helpers for google.colab Python module.\n",
              " */\n",
              "(function(scope) {\n",
              "function span(text, styleAttributes = {}) {\n",
              "  const element = document.createElement('span');\n",
              "  element.textContent = text;\n",
              "  for (const key of Object.keys(styleAttributes)) {\n",
              "    element.style[key] = styleAttributes[key];\n",
              "  }\n",
              "  return element;\n",
              "}\n",
              "\n",
              "// Max number of bytes which will be uploaded at a time.\n",
              "const MAX_PAYLOAD_SIZE = 100 * 1024;\n",
              "\n",
              "function _uploadFiles(inputId, outputId) {\n",
              "  const steps = uploadFilesStep(inputId, outputId);\n",
              "  const outputElement = document.getElementById(outputId);\n",
              "  // Cache steps on the outputElement to make it available for the next call\n",
              "  // to uploadFilesContinue from Python.\n",
              "  outputElement.steps = steps;\n",
              "\n",
              "  return _uploadFilesContinue(outputId);\n",
              "}\n",
              "\n",
              "// This is roughly an async generator (not supported in the browser yet),\n",
              "// where there are multiple asynchronous steps and the Python side is going\n",
              "// to poll for completion of each step.\n",
              "// This uses a Promise to block the python side on completion of each step,\n",
              "// then passes the result of the previous step as the input to the next step.\n",
              "function _uploadFilesContinue(outputId) {\n",
              "  const outputElement = document.getElementById(outputId);\n",
              "  const steps = outputElement.steps;\n",
              "\n",
              "  const next = steps.next(outputElement.lastPromiseValue);\n",
              "  return Promise.resolve(next.value.promise).then((value) => {\n",
              "    // Cache the last promise value to make it available to the next\n",
              "    // step of the generator.\n",
              "    outputElement.lastPromiseValue = value;\n",
              "    return next.value.response;\n",
              "  });\n",
              "}\n",
              "\n",
              "/**\n",
              " * Generator function which is called between each async step of the upload\n",
              " * process.\n",
              " * @param {string} inputId Element ID of the input file picker element.\n",
              " * @param {string} outputId Element ID of the output display.\n",
              " * @return {!Iterable<!Object>} Iterable of next steps.\n",
              " */\n",
              "function* uploadFilesStep(inputId, outputId) {\n",
              "  const inputElement = document.getElementById(inputId);\n",
              "  inputElement.disabled = false;\n",
              "\n",
              "  const outputElement = document.getElementById(outputId);\n",
              "  outputElement.innerHTML = '';\n",
              "\n",
              "  const pickedPromise = new Promise((resolve) => {\n",
              "    inputElement.addEventListener('change', (e) => {\n",
              "      resolve(e.target.files);\n",
              "    });\n",
              "  });\n",
              "\n",
              "  const cancel = document.createElement('button');\n",
              "  inputElement.parentElement.appendChild(cancel);\n",
              "  cancel.textContent = 'Cancel upload';\n",
              "  const cancelPromise = new Promise((resolve) => {\n",
              "    cancel.onclick = () => {\n",
              "      resolve(null);\n",
              "    };\n",
              "  });\n",
              "\n",
              "  // Wait for the user to pick the files.\n",
              "  const files = yield {\n",
              "    promise: Promise.race([pickedPromise, cancelPromise]),\n",
              "    response: {\n",
              "      action: 'starting',\n",
              "    }\n",
              "  };\n",
              "\n",
              "  cancel.remove();\n",
              "\n",
              "  // Disable the input element since further picks are not allowed.\n",
              "  inputElement.disabled = true;\n",
              "\n",
              "  if (!files) {\n",
              "    return {\n",
              "      response: {\n",
              "        action: 'complete',\n",
              "      }\n",
              "    };\n",
              "  }\n",
              "\n",
              "  for (const file of files) {\n",
              "    const li = document.createElement('li');\n",
              "    li.append(span(file.name, {fontWeight: 'bold'}));\n",
              "    li.append(span(\n",
              "        `(${file.type || 'n/a'}) - ${file.size} bytes, ` +\n",
              "        `last modified: ${\n",
              "            file.lastModifiedDate ? file.lastModifiedDate.toLocaleDateString() :\n",
              "                                    'n/a'} - `));\n",
              "    const percent = span('0% done');\n",
              "    li.appendChild(percent);\n",
              "\n",
              "    outputElement.appendChild(li);\n",
              "\n",
              "    const fileDataPromise = new Promise((resolve) => {\n",
              "      const reader = new FileReader();\n",
              "      reader.onload = (e) => {\n",
              "        resolve(e.target.result);\n",
              "      };\n",
              "      reader.readAsArrayBuffer(file);\n",
              "    });\n",
              "    // Wait for the data to be ready.\n",
              "    let fileData = yield {\n",
              "      promise: fileDataPromise,\n",
              "      response: {\n",
              "        action: 'continue',\n",
              "      }\n",
              "    };\n",
              "\n",
              "    // Use a chunked sending to avoid message size limits. See b/62115660.\n",
              "    let position = 0;\n",
              "    do {\n",
              "      const length = Math.min(fileData.byteLength - position, MAX_PAYLOAD_SIZE);\n",
              "      const chunk = new Uint8Array(fileData, position, length);\n",
              "      position += length;\n",
              "\n",
              "      const base64 = btoa(String.fromCharCode.apply(null, chunk));\n",
              "      yield {\n",
              "        response: {\n",
              "          action: 'append',\n",
              "          file: file.name,\n",
              "          data: base64,\n",
              "        },\n",
              "      };\n",
              "\n",
              "      let percentDone = fileData.byteLength === 0 ?\n",
              "          100 :\n",
              "          Math.round((position / fileData.byteLength) * 100);\n",
              "      percent.textContent = `${percentDone}% done`;\n",
              "\n",
              "    } while (position < fileData.byteLength);\n",
              "  }\n",
              "\n",
              "  // All done.\n",
              "  yield {\n",
              "    response: {\n",
              "      action: 'complete',\n",
              "    }\n",
              "  };\n",
              "}\n",
              "\n",
              "scope.google = scope.google || {};\n",
              "scope.google.colab = scope.google.colab || {};\n",
              "scope.google.colab._files = {\n",
              "  _uploadFiles,\n",
              "  _uploadFilesContinue,\n",
              "};\n",
              "})(self);\n",
              "</script> "
            ]
          },
          "metadata": {}
        },
        {
          "output_type": "stream",
          "name": "stdout",
          "text": [
            "Saving E-commerce_data.xlsx to E-commerce_data (1).xlsx\n"
          ]
        }
      ]
    },
    {
      "cell_type": "code",
      "source": [
        "df = pd.read_excel('/content/E-commerce_data (1).xlsx')"
      ],
      "metadata": {
        "id": "DWVf7isz0onB"
      },
      "execution_count": 7,
      "outputs": []
    },
    {
      "cell_type": "code",
      "source": [
        "xls = pd.ExcelFile('/content/E-commerce_data (1).xlsx')\n",
        "customers = xls.parse('customers')\n",
        "genders = xls.parse('genders')\n",
        "cities = xls.parse('cities')\n",
        "transactions = xls.parse('transactions')\n",
        "branches = xls.parse('branches')\n",
        "merchants = xls.parse('merchants')"
      ],
      "metadata": {
        "id": "gBcFEQXL1SS6"
      },
      "execution_count": 10,
      "outputs": []
    },
    {
      "cell_type": "code",
      "source": [
        "data = customers.merge(genders, on='gender_id', how='left') \\\n",
        "                .merge(cities, on='city_id', how='left') \\\n",
        "                .merge(transactions, on='customer_id', how='left') \\\n",
        "                .merge(branches, on='branch_id', how='left') \\\n",
        "                .merge(merchants, on='merchant_id', how='left')"
      ],
      "metadata": {
        "id": "oAdf6Uu4Wv_N"
      },
      "execution_count": 11,
      "outputs": []
    },
    {
      "cell_type": "markdown",
      "source": [
        "#Preprocessing & cleaning\n"
      ],
      "metadata": {
        "id": "_euoPCuZW9rl"
      }
    },
    {
      "cell_type": "code",
      "source": [
        "# Number of transactions per customer\n",
        "transaction_count = transactions.groupby('customer_id').size().reset_index(name='transaction_count')"
      ],
      "metadata": {
        "id": "x6urm8sFW2jK"
      },
      "execution_count": 12,
      "outputs": []
    },
    {
      "cell_type": "code",
      "source": [
        "# Success rate of transactions (assuming 'Success' in transaction_status means completed)\n",
        "transactions['is_success'] = (transactions['transaction_status'] == 'Success').astype(int)\n",
        "success_rate = transactions.groupby('customer_id')['is_success'].mean().reset_index(name='success_rate')"
      ],
      "metadata": {
        "id": "ycUxJtOFXPyz"
      },
      "execution_count": 13,
      "outputs": []
    },
    {
      "cell_type": "code",
      "source": [
        "data = data.merge(transaction_count, on='customer_id', how='left') \\\n",
        "           .merge(success_rate, on='customer_id', how='left')"
      ],
      "metadata": {
        "id": "I9hIMbaXXZwX"
      },
      "execution_count": 14,
      "outputs": []
    },
    {
      "cell_type": "code",
      "source": [
        "# Handle missing values\n",
        "data = data.fillna({'transaction_count': 0, 'success_rate': 0})"
      ],
      "metadata": {
        "id": "uC8fwDSAXbGF"
      },
      "execution_count": 15,
      "outputs": []
    },
    {
      "cell_type": "code",
      "source": [
        "# Feature selection: Demographics (gender, city) and Transactional (count, success rate)\n",
        "features = ['gender_name', 'city_name', 'transaction_count', 'success_rate']\n",
        "data_selected = data[features].drop_duplicates(subset=['gender_name', 'city_name'])"
      ],
      "metadata": {
        "id": "YVozALMTXjeJ"
      },
      "execution_count": 16,
      "outputs": []
    },
    {
      "cell_type": "markdown",
      "source": [
        "#preparing"
      ],
      "metadata": {
        "id": "-5kOawe3X600"
      }
    },
    {
      "cell_type": "code",
      "source": [
        "# Encode categorical variables\n",
        "data_selected = pd.get_dummies(data_selected, columns=['gender_name', 'city_name'], drop_first=True)\n"
      ],
      "metadata": {
        "id": "oZPcLAWtYS83"
      },
      "execution_count": null,
      "outputs": []
    },
    {
      "cell_type": "code",
      "source": [
        "# Handle outliers using IQR\n",
        "def remove_outliers(df, column):\n",
        "    Q1 = df[column].quantile(0.25)\n",
        "    Q3 = df[column].quantile(0.75)\n",
        "    IQR = Q3 - Q1\n",
        "    lower_bound = Q1 - 1.5 * IQR\n",
        "    upper_bound = Q3 + 1.5 * IQR\n",
        "    df = df[(df[column] >= lower_bound) & (df[column] <= upper_bound)]\n",
        "    return df\n",
        "\n",
        "data_selected = remove_outliers(data_selected, 'transaction_count')\n",
        "data_selected = remove_outliers(data_selected, 'success_rate')\n"
      ],
      "metadata": {
        "id": "AbJhsJhBXzaP"
      },
      "execution_count": 22,
      "outputs": []
    },
    {
      "cell_type": "code",
      "source": [
        "# Scale numerical features\n",
        "scaler = StandardScaler()\n",
        "X_scaled = scaler.fit_transform(data_selected)"
      ],
      "metadata": {
        "id": "V51Fl_VcYY6B"
      },
      "execution_count": 23,
      "outputs": []
    },
    {
      "cell_type": "markdown",
      "source": [
        "#Model : K-Means Clustering"
      ],
      "metadata": {
        "id": "rDtz1ZWUYfbi"
      }
    },
    {
      "cell_type": "code",
      "source": [
        "# Explore different numbers of clusters\n",
        "inertia = []\n",
        "silhouette_scores = []\n",
        "K = range(2, 10)\n",
        "\n",
        "for k in K:\n",
        "    kmeans = KMeans(n_clusters=k, random_state=42)\n",
        "    kmeans.fit(X_scaled)\n",
        "    inertia.append(kmeans.inertia_)\n",
        "    silhouette_scores.append(silhouette_score(X_scaled, kmeans.labels_))"
      ],
      "metadata": {
        "id": "zhQ3Qks-YcDd"
      },
      "execution_count": 24,
      "outputs": []
    },
    {
      "cell_type": "code",
      "source": [
        "# Plot Elbow Curve (Inertia)\n",
        "plt.figure(figsize=(10, 6))\n",
        "plt.plot(K, inertia, 'bo-')\n",
        "plt.xlabel('Number of Clusters (k)')\n",
        "plt.ylabel('Inertia')\n",
        "plt.title('Elbow Method for Optimal k')\n",
        "plt.show()\n",
        "\n"
      ],
      "metadata": {
        "colab": {
          "base_uri": "https://localhost:8080/",
          "height": 564
        },
        "id": "beqPTVuxYw3A",
        "outputId": "2ff2708c-2ac9-43b7-d22e-aaf020d98ff8"
      },
      "execution_count": 25,
      "outputs": [
        {
          "output_type": "display_data",
          "data": {
            "text/plain": [
              "<Figure size 1000x600 with 1 Axes>"
            ],
            "image/png": "[encoded data removed]"
          },
          "metadata": {}
        }
      ]
    },
    {
      "cell_type": "code",
      "source": [
        "# Plot Silhouette Scores\n",
        "plt.figure(figsize=(10, 6))\n",
        "plt.plot(K, silhouette_scores, 'bo-')\n",
        "plt.xlabel('Number of Clusters (k)')\n",
        "plt.ylabel('Silhouette Score')\n",
        "plt.title('Silhouette Score for Optimal k')\n",
        "plt.show()\n"
      ],
      "metadata": {
        "colab": {
          "base_uri": "https://localhost:8080/",
          "height": 564
        },
        "id": "QxmxNAlzY2Ur",
        "outputId": "05c7991d-fef6-4e9c-fb05-f8ab6f5504fa"
      },
      "execution_count": 26,
      "outputs": [
        {
          "output_type": "display_data",
          "data": {
            "text/plain": [
              "<Figure size 1000x600 with 1 Axes>"
            ],
            "image/png": "[encoded data removed]"
          },
          "metadata": {}
        }
      ]
    },
    {
      "cell_type": "code",
      "source": [
        "# Choose optimal k (assume k=4, adjust after running)\n",
        "optimal_k = 4\n",
        "kmeans = KMeans(n_clusters=optimal_k, random_state=42)\n",
        "clusters = kmeans.fit_predict(X_scaled)"
      ],
      "metadata": {
        "id": "sxWzecp1Y664"
      },
      "execution_count": 27,
      "outputs": []
    },
    {
      "cell_type": "code",
      "source": [
        "# Add cluster labels to the data\n",
        "data_selected['Cluster'] = clusters\n"
      ],
      "metadata": {
        "id": "7Qypv3fGY_fV"
      },
      "execution_count": 28,
      "outputs": []
    },
    {
      "cell_type": "code",
      "source": [
        "# 5. Dimensionality Reduction for Visualization (PCA)\n",
        "pca = PCA(n_components=2)\n",
        "X_pca = pca.fit_transform(X_scaled)"
      ],
      "metadata": {
        "id": "OtRaoEm_ZCsT"
      },
      "execution_count": 29,
      "outputs": []
    },
    {
      "cell_type": "code",
      "source": [
        "# Visualize clusters\n",
        "plt.figure(figsize=(10, 6))\n",
        "sns.scatterplot(x=X_pca[:, 0], y=X_pca[:, 1], hue=data_selected['Cluster'], palette='Set2')\n",
        "plt.title('Customer Segments Visualized with PCA')\n",
        "plt.show()"
      ],
      "metadata": {
        "colab": {
          "base_uri": "https://localhost:8080/",
          "height": 545
        },
        "id": "HaR_aUGvZGhR",
        "outputId": "83cd2558-0c07-4683-adda-46f14833705c"
      },
      "execution_count": 30,
      "outputs": [
        {
          "output_type": "display_data",
          "data": {
            "text/plain": [
              "<Figure size 1000x600 with 1 Axes>"
            ],
            "image/png": "[encoded data removed]"
          },
          "metadata": {}
        }
      ]
    },
    {
      "cell_type": "markdown",
      "source": [
        "#Segment Analysis"
      ],
      "metadata": {
        "id": "4N5bhmN6Zdxg"
      }
    },
    {
      "cell_type": "code",
      "source": [
        "cluster_summary = data_selected.groupby('Cluster').mean()\n",
        "print(\"\\nCluster Summary:\")\n",
        "print(cluster_summary)"
      ],
      "metadata": {
        "colab": {
          "base_uri": "https://localhost:8080/"
        },
        "id": "UxvJI1HiZQKO",
        "outputId": "d84e4007-b90b-4058-c0b1-d852c79609cf"
      },
      "execution_count": 31,
      "outputs": [
        {
          "output_type": "stream",
          "name": "stdout",
          "text": [
            "\n",
            "Cluster Summary:\n",
            "         transaction_count  success_rate  gender_name_Male  city_name_Aswan  \\\n",
            "Cluster                                                                       \n",
            "0                 8.250000           0.0          0.500000         0.000000   \n",
            "1                 3.941176           0.0          0.058824         0.000000   \n",
            "2                 5.500000           0.0          0.916667         0.166667   \n",
            "3                 3.000000           0.0          0.857143         0.000000   \n",
            "\n",
            "         city_name_Asyut  city_name_Beni Suef  city_name_Cairo  \\\n",
            "Cluster                                                          \n",
            "0               0.000000             0.000000         0.000000   \n",
            "1               0.058824             0.058824         0.058824   \n",
            "2               0.083333             0.083333         0.083333   \n",
            "3               0.000000             0.000000         0.000000   \n",
            "\n",
            "         city_name_Damanhur  city_name_Damietta  \\\n",
            "Cluster                                           \n",
            "0                  0.000000            0.000000   \n",
            "1                  0.058824            0.000000   \n",
            "2                  0.000000            0.000000   \n",
            "3                  0.142857            0.285714   \n",
            "\n",
            "         city_name_El-Mahalla El-Kubra  ...  city_name_Ismailia  \\\n",
            "Cluster                                 ...                       \n",
            "0                             0.000000  ...            0.000000   \n",
            "1                             0.058824  ...            0.058824   \n",
            "2                             0.000000  ...            0.083333   \n",
            "3                             0.142857  ...            0.000000   \n",
            "\n",
            "         city_name_Mansoura  city_name_Minya  city_name_Port Said  \\\n",
            "Cluster                                                             \n",
            "0                  0.000000         0.000000             0.000000   \n",
            "1                  0.058824         0.058824             0.058824   \n",
            "2                  0.083333         0.083333             0.000000   \n",
            "3                  0.000000         0.000000             0.142857   \n",
            "\n",
            "         city_name_Qena  city_name_Shubra El-Kheima  city_name_Sohag  \\\n",
            "Cluster                                                                \n",
            "0              0.000000                    0.000000         0.000000   \n",
            "1              0.058824                    0.058824         0.058824   \n",
            "2              0.083333                    0.083333         0.083333   \n",
            "3              0.000000                    0.000000         0.000000   \n",
            "\n",
            "         city_name_Suez  city_name_Tanta  city_name_Zagazig  \n",
            "Cluster                                                      \n",
            "0              0.000000         0.000000           0.000000  \n",
            "1              0.058824         0.117647           0.058824  \n",
            "2              0.000000         0.000000           0.083333  \n",
            "3              0.142857         0.000000           0.000000  \n",
            "\n",
            "[4 rows x 22 columns]\n"
          ]
        }
      ]
    },
    {
      "cell_type": "markdown",
      "source": [
        "#evaluation"
      ],
      "metadata": {
        "id": "AHo86XM9ZXOY"
      }
    },
    {
      "cell_type": "code",
      "source": [
        "print(f\"\\nFinal Silhouette Score for k={optimal_k}: {silhouette_score(X_scaled, clusters):.4f}\")\n",
        "print(f\"Final Inertia for k={optimal_k}: {kmeans.inertia_:.4f}\")"
      ],
      "metadata": {
        "colab": {
          "base_uri": "https://localhost:8080/"
        },
        "id": "K9J_MJ4RZV5W",
        "outputId": "16b20642-ae7c-4131-a004-b03009bd5aab"
      },
      "execution_count": 32,
      "outputs": [
        {
          "output_type": "stream",
          "name": "stdout",
          "text": [
            "\n",
            "Final Silhouette Score for k=4: -0.0004\n",
            "Final Inertia for k=4: 739.1872\n"
          ]
        }
      ]
    },
    {
      "cell_type": "markdown",
      "source": [
        "#Insights and Recommendations (6 Insights)"
      ],
      "metadata": {
        "id": "1sRBYy5vZnq6"
      }
    },
    {
      "cell_type": "code",
      "source": [
        "print(\"\\n6 Insights and Coupon Strategies:\")\n",
        "print(\"1. Cluster 0: High transaction count, low success rate - Frequent but unsuccessful shoppers. Offer troubleshooting coupons.\")\n",
        "print(\"2. Cluster 1: Low transaction count, high success rate - Loyal but infrequent. Provide incentives for more purchases.\")\n",
        "print(\"3. Cluster 2: Moderate count and success - Average customers. Use time-limited coupons to boost activity.\")\n",
        "print(\"4. Cluster 3: High count and success - Top customers. Offer VIP coupons for retention.\")\n",
        "print(\"5. Gender trends: Check dummies (e.g., gender_name_Male) for gender-specific offers.\")\n",
        "print(\"6. City trends: Clusters tied to cities (e.g., city_name_Cairo) may need localized discounts.\")\n"
      ],
      "metadata": {
        "colab": {
          "base_uri": "https://localhost:8080/"
        },
        "id": "OtvJZN9OZkKt",
        "outputId": "09ecded3-4c94-491d-82fc-1f3e8204f79e"
      },
      "execution_count": 33,
      "outputs": [
        {
          "output_type": "stream",
          "name": "stdout",
          "text": [
            "\n",
            "6 Insights and Coupon Strategies:\n",
            "1. Cluster 0: High transaction count, low success rate - Frequent but unsuccessful shoppers. Offer troubleshooting coupons.\n",
            "2. Cluster 1: Low transaction count, high success rate - Loyal but infrequent. Provide incentives for more purchases.\n",
            "3. Cluster 2: Moderate count and success - Average customers. Use time-limited coupons to boost activity.\n",
            "4. Cluster 3: High count and success - Top customers. Offer VIP coupons for retention.\n",
            "5. Gender trends: Check dummies (e.g., gender_name_Male) for gender-specific offers.\n",
            "6. City trends: Clusters tied to cities (e.g., city_name_Cairo) may need localized discounts.\n"
          ]
        }
      ]
    }
  ]
}